{
 "cells": [
  {
   "cell_type": "markdown",
   "metadata": {},
   "source": [
    "# Introduction to Tensorflow 2.0"
   ]
  },
  {
   "cell_type": "markdown",
   "metadata": {},
   "source": [
    "* A Tensor is a multi-dimensional array that has the ability to run on the GPU\n",
    "* A tensor is an N dimensional array of data\n",
    "\n"
   ]
  },
  {
   "cell_type": "markdown",
   "metadata": {},
   "source": [
    "Start with Basic operations"
   ]
  },
  {
   "cell_type": "markdown",
   "metadata": {},
   "source": [
    "* Requires the latest pip - pip install --upgrade pip\n",
    "\n",
    "* Current stable release for CPU and GPU - pip install tensorflow\n"
   ]
  },
  {
   "cell_type": "code",
   "execution_count": 3,
   "metadata": {},
   "outputs": [],
   "source": [
    "! pip install --upgrade pip -q\n",
    "! pip install tensorflow -q"
   ]
  },
  {
   "cell_type": "code",
   "execution_count": 3,
   "metadata": {},
   "outputs": [],
   "source": [
    "import os\n",
    "os.environ['TF_CPP_MIN_LOG_LEVEL']='2' # avoid warnings\n",
    "import tensorflow as tf"
   ]
  },
  {
   "cell_type": "code",
   "execution_count": 8,
   "metadata": {},
   "outputs": [
    {
     "name": "stdout",
     "output_type": "stream",
     "text": [
      "tf.Tensor(4, shape=(), dtype=int32)\n",
      "tf.Tensor(4.0, shape=(), dtype=float32)\n",
      "tf.Tensor([[4]], shape=(1, 1), dtype=int32)\n",
      "tf.Tensor([[4.]], shape=(1, 1), dtype=float32)\n"
     ]
    }
   ],
   "source": [
    "# Initialization of a Tensor\n",
    "x=tf.constant(4)\n",
    "print(x)\n",
    "x=tf.constant(4.0)\n",
    "print(x)\n",
    "x=tf.constant(4,shape=(1,1))\n",
    "print(x)\n",
    "x=tf.constant(4,shape=(1,1),dtype=tf.float32)\n",
    "print(x)"
   ]
  },
  {
   "cell_type": "code",
   "execution_count": 18,
   "metadata": {},
   "outputs": [
    {
     "name": "stdout",
     "output_type": "stream",
     "text": [
      "tf.Tensor(\n",
      "[[1 2 3]\n",
      " [4 5 6]], shape=(2, 3), dtype=int32)\n",
      "tf.Tensor(\n",
      "[[0. 0. 0.]\n",
      " [0. 0. 0.]], shape=(2, 3), dtype=float32)\n",
      "tf.Tensor(\n",
      "[[1. 1. 1.]\n",
      " [1. 1. 1.]], shape=(2, 3), dtype=float32)\n",
      "tf.Tensor(\n",
      "[[1. 0. 0.]\n",
      " [0. 1. 0.]\n",
      " [0. 0. 1.]], shape=(3, 3), dtype=float32)\n",
      "tf.Tensor(\n",
      "[[ 0.03469208  2.3787212  -0.82017267]\n",
      " [ 0.6709153  -0.572818   -0.04566335]], shape=(2, 3), dtype=float32)\n",
      "tf.Tensor([1. 2. 3. 4. 5. 6. 7. 8. 9.], shape=(9,), dtype=float32)\n"
     ]
    }
   ],
   "source": [
    "x=tf.constant([[1,2,3],[4,5,6]])\n",
    "print(x)\n",
    "x=tf.zeros((2,3))\n",
    "print(x)\n",
    "x=tf.ones((2,3))\n",
    "print(x)\n",
    "x=tf.eye((3))\n",
    "print(x)\n",
    "x=tf.random.normal((2,3),mean=0,stddev=1)\n",
    "print(x)\n",
    "x=tf.range(start=1,limit=10,delta=1,dtype=tf.float32)\n",
    "print(x)"
   ]
  },
  {
   "cell_type": "code",
   "execution_count": 21,
   "metadata": {},
   "outputs": [
    {
     "name": "stdout",
     "output_type": "stream",
     "text": [
      "tf.Tensor([1 2 3 4 5 6 7 8 9], shape=(9,), dtype=int64)\n"
     ]
    }
   ],
   "source": [
    "# convert dtype\n",
    "x=tf.cast(x,dtype=tf.int64)\n",
    "print(x)\n"
   ]
  },
  {
   "cell_type": "code",
   "execution_count": 39,
   "metadata": {},
   "outputs": [
    {
     "name": "stdout",
     "output_type": "stream",
     "text": [
      "tf.Tensor(\n",
      "[[ 2  4  6]\n",
      " [ 8 10 12]], shape=(2, 3), dtype=int32)\n",
      "tf.Tensor(\n",
      "[[ 2  4  6]\n",
      " [ 8 10 12]], shape=(2, 3), dtype=int32)\n",
      "tf.Tensor(\n",
      "[[ 2.  4.  6.]\n",
      " [ 8. 10. 12.]], shape=(2, 3), dtype=float32)\n",
      "tf.Tensor(\n",
      "[[ 1.  4.  9.]\n",
      " [16. 25. 36.]], shape=(2, 3), dtype=float32)\n",
      "tf.Tensor(\n",
      "[[ 1.  4.  9.]\n",
      " [16. 25. 36.]], shape=(2, 3), dtype=float32)\n",
      "tf.Tensor(\n",
      "[[1. 1. 1.]\n",
      " [1. 1. 1.]], shape=(2, 3), dtype=float32)\n",
      "tf.Tensor(\n",
      "[[1. 1. 1.]\n",
      " [1. 1. 1.]], shape=(2, 3), dtype=float32)\n"
     ]
    }
   ],
   "source": [
    "# math operations\n",
    "x=tf.constant([[1,2,3],[4,5,6]],dtype=tf.int32)\n",
    "y=tf.constant([[1,2,3],[4,5,6]])\n",
    "z=tf.add(x,y)\n",
    "print(z)\n",
    "print(x+y)\n",
    "\n",
    "x=tf.constant([[1,2,3],[4,5,6]],dtype=tf.float32)\n",
    "y=tf.constant([[1,2,3],[4,5,6]],dtype=tf.float32)\n",
    "z=tf.add(x,y)\n",
    "print(z)\n",
    "\n",
    "print(x*y)\n",
    "print(tf.multiply(x,y))\n",
    "\n",
    "print(x/y)\n",
    "print(tf.divide(x,y))"
   ]
  },
  {
   "cell_type": "code",
   "execution_count": 38,
   "metadata": {},
   "outputs": [
    {
     "name": "stdout",
     "output_type": "stream",
     "text": [
      "tf.Tensor(91.0, shape=(), dtype=float32)\n",
      "tf.Tensor(\n",
      "[[[[ 1.  2.  3.]\n",
      "   [ 4.  5.  6.]]\n",
      "\n",
      "  [[ 2.  4.  6.]\n",
      "   [ 8. 10. 12.]]\n",
      "\n",
      "  [[ 3.  6.  9.]\n",
      "   [12. 15. 18.]]]\n",
      "\n",
      "\n",
      " [[[ 4.  8. 12.]\n",
      "   [16. 20. 24.]]\n",
      "\n",
      "  [[ 5. 10. 15.]\n",
      "   [20. 25. 30.]]\n",
      "\n",
      "  [[ 6. 12. 18.]\n",
      "   [24. 30. 36.]]]], shape=(2, 3, 2, 3), dtype=float32)\n"
     ]
    }
   ],
   "source": [
    "print(tf.tensordot(x,y,axes=2))\n",
    "print(tf.tensordot(x,y,axes=0))"
   ]
  },
  {
   "cell_type": "code",
   "execution_count": 43,
   "metadata": {},
   "outputs": [
    {
     "name": "stdout",
     "output_type": "stream",
     "text": [
      "tf.Tensor(\n",
      "[[-0.06888774  0.40660852 -0.9388473  -1.0908937 ]\n",
      " [-1.237572    1.0453576  -2.5798485  -0.8332591 ]], shape=(2, 4), dtype=float32)\n"
     ]
    }
   ],
   "source": [
    "# Matrix operation\n",
    "x=tf.random.normal((2,3))\n",
    "y=tf.random.normal((3,4))\n",
    "print(tf.matmul(x,y))\n"
   ]
  },
  {
   "cell_type": "code",
   "execution_count": 50,
   "metadata": {},
   "outputs": [
    {
     "name": "stdout",
     "output_type": "stream",
     "text": [
      "tf.Tensor([1 2 3 4 5 6 7 8 9], shape=(9,), dtype=int32)\n",
      "tf.Tensor(5, shape=(), dtype=int32)\n",
      "tf.Tensor([3 4 5 6], shape=(4,), dtype=int32)\n",
      "tf.Tensor([5 6 7 8], shape=(4,), dtype=int32)\n",
      "tf.Tensor([1 3 5 7 9], shape=(5,), dtype=int32)\n",
      "tf.Tensor([9 8 7 6 5 4 3 2 1], shape=(9,), dtype=int32)\n",
      "tf.Tensor([1 4 8], shape=(3,), dtype=int32)\n"
     ]
    }
   ],
   "source": [
    "# Indexing \n",
    "x=tf.constant([1,2,3,4,5,6,7,8,9])\n",
    "print(x)\n",
    "print(x[4])\n",
    "print(x[2:6])\n",
    "print(x[4:-1])\n",
    "print(x[::2])\n",
    "print(x[::-1])\n",
    "\n",
    "# pick values at certain indices from a tensor\n",
    "indices=[0,3,7]\n",
    "x_ind=tf.gather(x,indices)\n",
    "print(x_ind)"
   ]
  },
  {
   "cell_type": "code",
   "execution_count": null,
   "metadata": {},
   "outputs": [],
   "source": []
  }
 ],
 "metadata": {
  "kernelspec": {
   "display_name": "Tensorflow",
   "language": "python",
   "name": "python3"
  },
  "language_info": {
   "codemirror_mode": {
    "name": "ipython",
    "version": 3
   },
   "file_extension": ".py",
   "mimetype": "text/x-python",
   "name": "python",
   "nbconvert_exporter": "python",
   "pygments_lexer": "ipython3",
   "version": "3.11.5"
  }
 },
 "nbformat": 4,
 "nbformat_minor": 2
}
